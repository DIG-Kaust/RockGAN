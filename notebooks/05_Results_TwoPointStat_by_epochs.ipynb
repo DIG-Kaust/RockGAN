{
 "cells": [
  {
   "cell_type": "markdown",
   "id": "973e120f",
   "metadata": {},
   "source": [
    "# Evaluation of Two point statistics by epochs"
   ]
  },
  {
   "cell_type": "code",
   "execution_count": 2,
   "id": "96a9de24",
   "metadata": {},
   "outputs": [],
   "source": [
    "%load_ext autoreload\n",
    "%autoreload 2\n",
    "%matplotlib inline\n",
    "\n",
    "import torch\n",
    "import numpy as np\n",
    "import matplotlib.pyplot as plt\n",
    "import torch.optim as optim\n",
    "from rockgan.architecture import *\n",
    "from rockgan.utils import *\n",
    "\n",
    "import porespy as ps\n",
    "from quantimpy import minkowski as mk\n",
    "from skimage.measure import euler_number\n",
    "from sklearn.metrics import mean_squared_error"
   ]
  },
  {
   "cell_type": "markdown",
   "id": "6bec4e86",
   "metadata": {},
   "source": [
    "## Specifying GPU"
   ]
  },
  {
   "cell_type": "code",
   "execution_count": 3,
   "id": "15d38023",
   "metadata": {},
   "outputs": [],
   "source": [
    "os.environ[\"CUDA_DEVICE_ORDER\"] = \"PCI_BUS_ID\"\n",
    "os.environ[\"CUDA_VISIBLE_DEVICES\"] = \"0\"\n",
    "\n",
    "DEVICE = torch.device('cuda')"
   ]
  },
  {
   "cell_type": "markdown",
   "id": "4649b17b",
   "metadata": {},
   "source": [
    "## Importing Real dataset"
   ]
  },
  {
   "cell_type": "code",
   "execution_count": 4,
   "id": "ed5d96a5",
   "metadata": {},
   "outputs": [
    {
     "name": "stdout",
     "output_type": "stream",
     "text": [
      "torch.Size([1024, 128, 128, 128])\n"
     ]
    }
   ],
   "source": [
    "# Uploading 1024 samples extracted from the original sample\n",
    "DATASET = torch.from_numpy(np.load('../data/Berea_subpatches.npy'))\n",
    "print(DATASET.shape)"
   ]
  },
  {
   "cell_type": "code",
   "execution_count": 5,
   "id": "91e0fdf0",
   "metadata": {},
   "outputs": [],
   "source": [
    "two_point=[]\n",
    "for j in range((len(DATASET[:,0,0,0]))):\n",
    "    data_real = ps.metrics.two_point_correlation(DATASET[j,:,:,:])\n",
    "    two_point.append(data_real.probability)\n",
    "\n",
    "two_point_mean_data = np.mean(np.array(two_point), axis=0)"
   ]
  },
  {
   "cell_type": "markdown",
   "id": "a1262131",
   "metadata": {},
   "source": [
    "## Parameters for loading the models"
   ]
  },
  {
   "cell_type": "code",
   "execution_count": 6,
   "id": "04be3bd4",
   "metadata": {},
   "outputs": [],
   "source": [
    "# Training hyperparameters\n",
    "LEARNING_RATE = 1e-3\n",
    "BATCH_SIZE = 32\n",
    "Z_DIM = 16\n",
    "# fixed noise for display\n",
    "fixed_noise = torch.randn(BATCH_SIZE,1, Z_DIM, Z_DIM, Z_DIM).to(DEVICE)\n",
    "# generator\n",
    "gen = Generator(in_channel=1, out_channel=1).to(DEVICE)\n",
    "# optimizer\n",
    "opt_gen = optim.Adam(gen.parameters(), lr=LEARNING_RATE, betas=(0.0, 0.9))"
   ]
  },
  {
   "cell_type": "code",
   "execution_count": 7,
   "id": "2a8afcb2",
   "metadata": {},
   "outputs": [],
   "source": [
    "epochs = np.arange(0, 102, 2, dtype=int)[1:]-1"
   ]
  },
  {
   "cell_type": "markdown",
   "id": "ea993945",
   "metadata": {},
   "source": [
    "## RockGAN"
   ]
  },
  {
   "cell_type": "code",
   "execution_count": 8,
   "id": "0b38edea",
   "metadata": {},
   "outputs": [
    {
     "name": "stdout",
     "output_type": "stream",
     "text": [
      "=> Loading checkpoint\n",
      "=> Loading checkpoint\n",
      "=> Loading checkpoint\n",
      "=> Loading checkpoint\n",
      "=> Loading checkpoint\n",
      "=> Loading checkpoint\n",
      "=> Loading checkpoint\n",
      "=> Loading checkpoint\n",
      "=> Loading checkpoint\n",
      "=> Loading checkpoint\n",
      "=> Loading checkpoint\n",
      "=> Loading checkpoint\n",
      "=> Loading checkpoint\n",
      "=> Loading checkpoint\n",
      "=> Loading checkpoint\n",
      "=> Loading checkpoint\n",
      "=> Loading checkpoint\n",
      "=> Loading checkpoint\n",
      "=> Loading checkpoint\n",
      "=> Loading checkpoint\n",
      "=> Loading checkpoint\n",
      "=> Loading checkpoint\n",
      "=> Loading checkpoint\n",
      "=> Loading checkpoint\n",
      "=> Loading checkpoint\n",
      "=> Loading checkpoint\n",
      "=> Loading checkpoint\n",
      "=> Loading checkpoint\n",
      "=> Loading checkpoint\n",
      "=> Loading checkpoint\n",
      "=> Loading checkpoint\n",
      "=> Loading checkpoint\n",
      "=> Loading checkpoint\n",
      "=> Loading checkpoint\n",
      "=> Loading checkpoint\n",
      "=> Loading checkpoint\n",
      "=> Loading checkpoint\n",
      "=> Loading checkpoint\n",
      "=> Loading checkpoint\n",
      "=> Loading checkpoint\n",
      "=> Loading checkpoint\n",
      "=> Loading checkpoint\n",
      "=> Loading checkpoint\n",
      "=> Loading checkpoint\n",
      "=> Loading checkpoint\n",
      "=> Loading checkpoint\n",
      "=> Loading checkpoint\n",
      "=> Loading checkpoint\n",
      "=> Loading checkpoint\n",
      "=> Loading checkpoint\n"
     ]
    }
   ],
   "source": [
    "two_point_mean_RockGAN = []\n",
    "for i in epochs:\n",
    "    #Loading generator per epochs\n",
    "    load_checkpoint(f\"../checkpoints/generator/generator_no_poro_{i}_V2.pt\", \\\n",
    "                    model=gen, optimizer=opt_gen, lr=1e-3)\n",
    "    fake_images = gen(fixed_noise).detach().cpu().numpy().reshape(BATCH_SIZE,128,128,128)\n",
    "    \n",
    "    #Storing 2-points statistics curve\n",
    "    two_point = []\n",
    "    for j in range((len(fake_images[:,0,0,0]))):\n",
    "        data_fake = ps.metrics.two_point_correlation(fake_images[j,:,:,:])\n",
    "        two_point.append(data_fake.probability)\n",
    "        \n",
    "    two_point_mean_RockGAN.append(np.mean(np.array(two_point), axis=0))\n",
    "\n",
    "#Converting into arrays\n",
    "two_point_mean_RockGAN = np.array(two_point_mean_RockGAN)"
   ]
  },
  {
   "cell_type": "markdown",
   "id": "69604778",
   "metadata": {},
   "source": [
    "## CRockGAN"
   ]
  },
  {
   "cell_type": "code",
   "execution_count": 9,
   "id": "1116a18f",
   "metadata": {},
   "outputs": [
    {
     "name": "stdout",
     "output_type": "stream",
     "text": [
      "=> Loading checkpoint\n",
      "=> Loading checkpoint\n",
      "=> Loading checkpoint\n",
      "=> Loading checkpoint\n",
      "=> Loading checkpoint\n",
      "=> Loading checkpoint\n",
      "=> Loading checkpoint\n",
      "=> Loading checkpoint\n",
      "=> Loading checkpoint\n",
      "=> Loading checkpoint\n",
      "=> Loading checkpoint\n",
      "=> Loading checkpoint\n",
      "=> Loading checkpoint\n",
      "=> Loading checkpoint\n",
      "=> Loading checkpoint\n",
      "=> Loading checkpoint\n",
      "=> Loading checkpoint\n",
      "=> Loading checkpoint\n",
      "=> Loading checkpoint\n",
      "=> Loading checkpoint\n",
      "=> Loading checkpoint\n",
      "=> Loading checkpoint\n",
      "=> Loading checkpoint\n",
      "=> Loading checkpoint\n",
      "=> Loading checkpoint\n",
      "=> Loading checkpoint\n",
      "=> Loading checkpoint\n",
      "=> Loading checkpoint\n",
      "=> Loading checkpoint\n",
      "=> Loading checkpoint\n",
      "=> Loading checkpoint\n",
      "=> Loading checkpoint\n",
      "=> Loading checkpoint\n",
      "=> Loading checkpoint\n",
      "=> Loading checkpoint\n",
      "=> Loading checkpoint\n",
      "=> Loading checkpoint\n",
      "=> Loading checkpoint\n",
      "=> Loading checkpoint\n",
      "=> Loading checkpoint\n",
      "=> Loading checkpoint\n",
      "=> Loading checkpoint\n",
      "=> Loading checkpoint\n",
      "=> Loading checkpoint\n",
      "=> Loading checkpoint\n",
      "=> Loading checkpoint\n",
      "=> Loading checkpoint\n",
      "=> Loading checkpoint\n",
      "=> Loading checkpoint\n",
      "=> Loading checkpoint\n"
     ]
    }
   ],
   "source": [
    "two_point_mean_CRockGAN = []\n",
    "for i in epochs:\n",
    "    #Loading generator per epochs\n",
    "    load_checkpoint(f\"../checkpoints/generator/generator_poro_{i}_v4.pt\", \\\n",
    "                    model=gen, optimizer=opt_gen, lr=1e-3)\n",
    "    fake_images = gen(fixed_noise).detach().cpu().numpy().reshape(BATCH_SIZE,128,128,128)\n",
    "    \n",
    "    #Storing 2-points statistics curve\n",
    "    two_point = []\n",
    "    for j in range((len(fake_images[:,0,0,0]))):\n",
    "        data_fake = ps.metrics.two_point_correlation(fake_images[j,:,:,:])\n",
    "        two_point.append(data_fake.probability)\n",
    "        \n",
    "    two_point_mean_CRockGAN.append(np.mean(np.array(two_point), axis=0))\n",
    "\n",
    "#Converting into arrays\n",
    "two_point_mean_CRockGAN = np.array(two_point_mean_CRockGAN)\n"
   ]
  },
  {
   "cell_type": "markdown",
   "id": "e5fb633c",
   "metadata": {},
   "source": [
    "## Plotting MSE of two point statistics by epochs "
   ]
  },
  {
   "cell_type": "code",
   "execution_count": 10,
   "id": "9df6ba12",
   "metadata": {},
   "outputs": [],
   "source": [
    "mse_RockGAN = []\n",
    "mse_CRockGAN = []\n",
    "for i in range(len(epochs)):\n",
    "    err_1 = mean_squared_error(two_point_mean_data, two_point_mean_RockGAN[i])\n",
    "    err_2 = mean_squared_error(two_point_mean_data, two_point_mean_CRockGAN[i])\n",
    "    mse_RockGAN.append(err_1), mse_CRockGAN.append(err_2),"
   ]
  },
  {
   "cell_type": "code",
   "execution_count": 15,
   "id": "74ab58fc",
   "metadata": {},
   "outputs": [
    {
     "data": {
      "image/png": "[encoded data removed]",
      "text/plain": [
       "<Figure size 504x360 with 1 Axes>"
      ]
     },
     "metadata": {
      "needs_background": "light"
     },
     "output_type": "display_data"
    }
   ],
   "source": [
    "plt.figure(figsize=(7,5))\n",
    "plt.plot(epochs[1:], np.array(mse_RockGAN)[1:], label='RockGAN')\n",
    "plt.plot(epochs[1:], np.array(mse_CRockGAN)[1:], label='C-RockGAN')\n",
    "plt.tight_layout()  \n",
    "plt.xlabel('Epochs')\n",
    "plt.ylabel('MSE - Two point statistics')\n",
    "plt.legend()\n",
    "plt.show()"
   ]
  }
 ],
 "metadata": {
  "kernelspec": {
   "display_name": "Python 3 (ipykernel)",
   "language": "python",
   "name": "python3"
  },
  "language_info": {
   "codemirror_mode": {
    "name": "ipython",
    "version": 3
   },
   "file_extension": ".py",
   "mimetype": "text/x-python",
   "name": "python",
   "nbconvert_exporter": "python",
   "pygments_lexer": "ipython3",
   "version": "3.10.6"
  }
 },
 "nbformat": 4,
 "nbformat_minor": 5
}
