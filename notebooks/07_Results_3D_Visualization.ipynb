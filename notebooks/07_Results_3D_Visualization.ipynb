{
 "cells": [
  {
   "cell_type": "markdown",
   "id": "eb2e1d22",
   "metadata": {},
   "source": [
    "# 3D Visualization"
   ]
  },
  {
   "cell_type": "code",
   "execution_count": 1,
   "id": "c0997714",
   "metadata": {},
   "outputs": [],
   "source": [
    "import torch\n",
    "import numpy as np\n",
    "import matplotlib.pyplot as plt\n",
    "import pyvista as pv\n",
    "\n",
    "import torch.optim as optim\n",
    "from rockgan.architecture import *\n",
    "from rockgan.utils import *"
   ]
  },
  {
   "cell_type": "code",
   "execution_count": 2,
   "id": "b4890590",
   "metadata": {},
   "outputs": [],
   "source": [
    "os.environ[\"CUDA_DEVICE_ORDER\"] = \"PCI_BUS_ID\"\n",
    "os.environ[\"CUDA_VISIBLE_DEVICES\"] = \"0\"\n",
    "\n",
    "DEVICE = torch.device('cuda')"
   ]
  },
  {
   "cell_type": "markdown",
   "id": "fbe889aa",
   "metadata": {},
   "source": [
    "## Training Data"
   ]
  },
  {
   "cell_type": "code",
   "execution_count": 3,
   "id": "161fc9a4",
   "metadata": {},
   "outputs": [
    {
     "name": "stdout",
     "output_type": "stream",
     "text": [
      "torch.Size([100, 128, 128, 128])\n"
     ]
    }
   ],
   "source": [
    "DATASET = torch.from_numpy(np.load('../data/Berea_subpatches.npy')[:100])\n",
    "print(DATASET.shape)"
   ]
  },
  {
   "cell_type": "code",
   "execution_count": 4,
   "id": "12dbb692",
   "metadata": {},
   "outputs": [
    {
     "name": "stderr",
     "output_type": "stream",
     "text": [
      "\u001b[0m\u001b[33m2022-10-02 22:49:48.807 (   3.137s) [        C5871740]       vtkThreshold.cxx:72    WARN| vtkThreshold::ThresholdByLower was deprecated for VTK 9.1 and will be removed in a future version.\u001b[0m\n",
      "\u001b[0m\u001b[33m2022-10-02 22:49:49.352 (   3.681s) [        C5871740]       vtkThreshold.cxx:72    WARN| vtkThreshold::ThresholdByLower was deprecated for VTK 9.1 and will be removed in a future version.\u001b[0m\n",
      "\u001b[0m\u001b[33m2022-10-02 22:49:49.905 (   4.235s) [        C5871740]       vtkThreshold.cxx:72    WARN| vtkThreshold::ThresholdByLower was deprecated for VTK 9.1 and will be removed in a future version.\u001b[0m\n",
      "\u001b[0m\u001b[33m2022-10-02 22:49:50.446 (   4.776s) [        C5871740]       vtkThreshold.cxx:72    WARN| vtkThreshold::ThresholdByLower was deprecated for VTK 9.1 and will be removed in a future version.\u001b[0m\n",
      "\u001b[0m\u001b[33m2022-10-02 22:49:50.994 (   5.323s) [        C5871740]       vtkThreshold.cxx:72    WARN| vtkThreshold::ThresholdByLower was deprecated for VTK 9.1 and will be removed in a future version.\u001b[0m\n",
      "\u001b[0m\u001b[33m2022-10-02 22:49:51.539 (   5.869s) [        C5871740]       vtkThreshold.cxx:72    WARN| vtkThreshold::ThresholdByLower was deprecated for VTK 9.1 and will be removed in a future version.\u001b[0m\n",
      "\u001b[0m\u001b[33m2022-10-02 22:49:52.087 (   6.416s) [        C5871740]       vtkThreshold.cxx:72    WARN| vtkThreshold::ThresholdByLower was deprecated for VTK 9.1 and will be removed in a future version.\u001b[0m\n",
      "\u001b[0m\u001b[33m2022-10-02 22:49:52.624 (   6.953s) [        C5871740]       vtkThreshold.cxx:72    WARN| vtkThreshold::ThresholdByLower was deprecated for VTK 9.1 and will be removed in a future version.\u001b[0m\n",
      "\u001b[0m\u001b[33m2022-10-02 22:49:53.167 (   7.496s) [        C5871740]       vtkThreshold.cxx:72    WARN| vtkThreshold::ThresholdByLower was deprecated for VTK 9.1 and will be removed in a future version.\u001b[0m\n"
     ]
    },
    {
     "data": {
      "application/vnd.jupyter.widget-view+json": {
       "model_id": "04febc986e764a978350ede5cc0c4b79",
       "version_major": 2,
       "version_minor": 0
      },
      "text/plain": [
       "ViewInteractiveWidget(height=1000, layout=Layout(height='auto', width='100%'), width=1000)"
      ]
     },
     "metadata": {},
     "output_type": "display_data"
    }
   ],
   "source": [
    "columns = 3\n",
    "rows = 3\n",
    "t = np.arange(1,rows*columns+1).reshape(rows,columns)\n",
    "p = pv.Plotter(shape=(rows, columns))\n",
    "for i in range(rows):\n",
    "    for j in range(columns):\n",
    "        grid = pv.UniformGrid(dims=(129,129,129))\n",
    "        grid.cell_data[\"values\"] = DATASET[t[i,j],:,:].flatten() \n",
    "        threshed = grid.threshold(value=0, invert=True)\n",
    "        outline = grid.outline()\n",
    "        p.subplot(i,j)\n",
    "        p.add_mesh(outline, color=\"k\")\n",
    "        p.add_mesh(threshed, color='lightskyblue',interpolate_before_map=True, show_edges=0, smooth_shading=True, metallic=1)\n",
    "        p.add_text('Training sample: N= {}'.format(t[i,j]), font_size=12, font='times', color='black')\n",
    "#         p.camera_position = [-5, 5, 5]\n",
    "        p.window_size = [1000,1000]\n",
    "        #p.camera.zoom(1.1)\n",
    "# p.save_graphic('../figures/training_samples.eps',raster=False )\n",
    "# p.save_graphic('../figures/training_samples.eps')  \n",
    "# p.screenshot('../figures/training_3D_samples_structure.png', transparent_background=True)\n",
    "p.show()"
   ]
  },
  {
   "cell_type": "code",
   "execution_count": 5,
   "id": "ea77d5ce",
   "metadata": {},
   "outputs": [
    {
     "data": {
      "application/vnd.jupyter.widget-view+json": {
       "model_id": "8e6eab02cd1f4e3bac38ce84223615b1",
       "version_major": 2,
       "version_minor": 0
      },
      "text/plain": [
       "ViewInteractiveWidget(height=1000, layout=Layout(height='auto', width='100%'), width=1000)"
      ]
     },
     "metadata": {},
     "output_type": "display_data"
    }
   ],
   "source": [
    "columns = 3\n",
    "rows = 3\n",
    "t = np.arange(1,rows*columns+1).reshape(rows,columns)\n",
    "p = pv.Plotter(shape=(rows, columns))\n",
    "\n",
    "for i in range(rows):\n",
    "    for j in range(columns):\n",
    "        grid = pv.UniformGrid(dims=(129,129,129))\n",
    "        grid.cell_data[\"values\"] = DATASET[t[i,j],:,:].flatten() \n",
    "        clipped = grid.clip_box(factor=0.5)\n",
    "        p.subplot(i,j)\n",
    "        p.add_mesh(clipped, cmap='gray', show_scalar_bar=False)\n",
    "        p.add_text('Training sample: N= {}'.format(t[i,j]), font_size=12, font='times', color='black')\n",
    "#         p.camera_position = [-5, 5, 5]\n",
    "        p.window_size = [1000,1000]\n",
    "        #p.camera.zoom(1.1)\n",
    "# p.save_graphic('../figures/training_samples.eps',raster=False )\n",
    "# p.save_graphic('../figures/training_samples.eps')  \n",
    "# p.screenshot('../figures/training_3D_samples_cube.png', transparent_background=True)\n",
    "p.show()"
   ]
  },
  {
   "cell_type": "markdown",
   "id": "41c2b052",
   "metadata": {},
   "source": [
    "## RockGAN results"
   ]
  },
  {
   "cell_type": "code",
   "execution_count": 6,
   "id": "25f9cba1",
   "metadata": {},
   "outputs": [],
   "source": [
    "# Training hyperparameters\n",
    "LEARNING_RATE = 1e-3\n",
    "BATCH_SIZE = 32\n",
    "Z_DIM = 16\n",
    "# fixed noise for display\n",
    "fixed_noise = torch.randn(BATCH_SIZE,1, Z_DIM, Z_DIM, Z_DIM).to(DEVICE)\n",
    "# generator\n",
    "gen = Generator(in_channel=1, out_channel=1).to(DEVICE)\n",
    "# optimizer\n",
    "opt_gen = optim.Adam(gen.parameters(), lr=LEARNING_RATE, betas=(0.0, 0.9))"
   ]
  },
  {
   "cell_type": "code",
   "execution_count": 7,
   "id": "5c0e601f",
   "metadata": {},
   "outputs": [
    {
     "name": "stdout",
     "output_type": "stream",
     "text": [
      "=> Loading checkpoint\n"
     ]
    }
   ],
   "source": [
    "#Loading generator per epochs\n",
    "load_checkpoint(\"../checkpoints/generator/generator_no_poro_99_V2.pt\", \\\n",
    "                model=gen, optimizer=opt_gen, lr=1e-3)\n",
    "RockGAN_images = np.round(gen(fixed_noise).detach().cpu().numpy().reshape(BATCH_SIZE,128,128,128))"
   ]
  },
  {
   "cell_type": "code",
   "execution_count": 8,
   "id": "3f5b5db3",
   "metadata": {
    "scrolled": false
   },
   "outputs": [
    {
     "name": "stderr",
     "output_type": "stream",
     "text": [
      "\u001b[0m\u001b[33m2022-10-02 22:50:58.629 (  72.959s) [        C5871740]       vtkThreshold.cxx:72    WARN| vtkThreshold::ThresholdByLower was deprecated for VTK 9.1 and will be removed in a future version.\u001b[0m\n",
      "\u001b[0m\u001b[33m2022-10-02 22:50:59.186 (  73.515s) [        C5871740]       vtkThreshold.cxx:72    WARN| vtkThreshold::ThresholdByLower was deprecated for VTK 9.1 and will be removed in a future version.\u001b[0m\n",
      "\u001b[0m\u001b[33m2022-10-02 22:50:59.701 (  74.031s) [        C5871740]       vtkThreshold.cxx:72    WARN| vtkThreshold::ThresholdByLower was deprecated for VTK 9.1 and will be removed in a future version.\u001b[0m\n",
      "\u001b[0m\u001b[33m2022-10-02 22:51:00.222 (  74.552s) [        C5871740]       vtkThreshold.cxx:72    WARN| vtkThreshold::ThresholdByLower was deprecated for VTK 9.1 and will be removed in a future version.\u001b[0m\n",
      "\u001b[0m\u001b[33m2022-10-02 22:51:00.755 (  75.085s) [        C5871740]       vtkThreshold.cxx:72    WARN| vtkThreshold::ThresholdByLower was deprecated for VTK 9.1 and will be removed in a future version.\u001b[0m\n",
      "\u001b[0m\u001b[33m2022-10-02 22:51:01.279 (  75.608s) [        C5871740]       vtkThreshold.cxx:72    WARN| vtkThreshold::ThresholdByLower was deprecated for VTK 9.1 and will be removed in a future version.\u001b[0m\n",
      "\u001b[0m\u001b[33m2022-10-02 22:51:01.815 (  76.145s) [        C5871740]       vtkThreshold.cxx:72    WARN| vtkThreshold::ThresholdByLower was deprecated for VTK 9.1 and will be removed in a future version.\u001b[0m\n",
      "\u001b[0m\u001b[33m2022-10-02 22:51:02.287 (  76.617s) [        C5871740]       vtkThreshold.cxx:72    WARN| vtkThreshold::ThresholdByLower was deprecated for VTK 9.1 and will be removed in a future version.\u001b[0m\n",
      "\u001b[0m\u001b[33m2022-10-02 22:51:02.783 (  77.112s) [        C5871740]       vtkThreshold.cxx:72    WARN| vtkThreshold::ThresholdByLower was deprecated for VTK 9.1 and will be removed in a future version.\u001b[0m\n"
     ]
    },
    {
     "data": {
      "application/vnd.jupyter.widget-view+json": {
       "model_id": "d8b39a941b854fa193d2403ff1962861",
       "version_major": 2,
       "version_minor": 0
      },
      "text/plain": [
       "ViewInteractiveWidget(height=1000, layout=Layout(height='auto', width='100%'), width=1000)"
      ]
     },
     "metadata": {},
     "output_type": "display_data"
    }
   ],
   "source": [
    "columns = 3\n",
    "rows = 3\n",
    "t = np.arange(1,rows*columns+1).reshape(rows,columns)\n",
    "p = pv.Plotter(shape=(rows, columns))\n",
    "for i in range(rows):\n",
    "    for j in range(columns):\n",
    "        grid = pv.UniformGrid(dims=(129,129,129))\n",
    "        grid.cell_data[\"values\"] = RockGAN_images[t[i,j],:,:].flatten() \n",
    "        threshed = grid.threshold(value=0, invert=True)\n",
    "        outline = grid.outline()\n",
    "        p.subplot(i,j)\n",
    "        p.add_mesh(outline, color=\"k\")\n",
    "        p.add_mesh(threshed, color='lightskyblue',interpolate_before_map=True, show_edges=0, smooth_shading=True, metallic=1)\n",
    "        p.add_text('RockGAN sample: N= {}'.format(t[i,j]), font_size=12, font='times', color='black')\n",
    "#         p.camera_position = [-5, 5, 5]\n",
    "        p.window_size = [1000,1000]\n",
    "        #p.camera.zoom(1.1)\n",
    "# p.save_graphic('../figures/RockGAN_3D_samples.eps',raster=False )\n",
    "# p.save_graphic('../figures/RockGAN_3D_samples.eps')  \n",
    "# p.screenshot('../figures/RockGAN_3D_samples_structure.png', transparent_background=True)\n",
    "p.show()"
   ]
  },
  {
   "cell_type": "code",
   "execution_count": 9,
   "id": "f49d5d79",
   "metadata": {},
   "outputs": [
    {
     "data": {
      "application/vnd.jupyter.widget-view+json": {
       "model_id": "fb14d5cdabd34666891606646cd40865",
       "version_major": 2,
       "version_minor": 0
      },
      "text/plain": [
       "ViewInteractiveWidget(height=1000, layout=Layout(height='auto', width='100%'), width=1000)"
      ]
     },
     "metadata": {},
     "output_type": "display_data"
    }
   ],
   "source": [
    "columns = 3\n",
    "rows = 3\n",
    "t = np.arange(1,rows*columns+1).reshape(rows,columns)\n",
    "p = pv.Plotter(shape=(rows, columns))\n",
    "\n",
    "for i in range(rows):\n",
    "    for j in range(columns):\n",
    "        grid = pv.UniformGrid(dims=(129,129,129))\n",
    "        grid.cell_data[\"values\"] = RockGAN_images[t[i,j],:,:].flatten() \n",
    "        clipped = grid.clip_box(factor=0.5)\n",
    "        p.subplot(i,j)\n",
    "        p.add_mesh(clipped, cmap='gray', show_scalar_bar=False)\n",
    "        p.add_text('RockGAN sample: N= {}'.format(t[i,j]), font_size=12, font='times', color='black')\n",
    "#         p.camera_position = [-5, 5, 5]\n",
    "        p.window_size = [1000,1000]\n",
    "        #p.camera.zoom(1.1)\n",
    "# p.save_graphic('../figures/training_samples.eps',raster=False )\n",
    "# p.save_graphic('../figures/training_samples.eps')  \n",
    "# p.screenshot('../figures/RockGAN_3D_samples_cube.png', transparent_background=True)\n",
    "p.show()"
   ]
  },
  {
   "cell_type": "markdown",
   "id": "16e94d4f",
   "metadata": {},
   "source": [
    "## CRockGAN results"
   ]
  },
  {
   "cell_type": "code",
   "execution_count": 10,
   "id": "d836869a",
   "metadata": {},
   "outputs": [
    {
     "name": "stdout",
     "output_type": "stream",
     "text": [
      "=> Loading checkpoint\n"
     ]
    }
   ],
   "source": [
    "#Loading generator per epochs\n",
    "load_checkpoint(\"../checkpoints/generator/generator_poro_99_v4.pt\", \\\n",
    "                model=gen, optimizer=opt_gen, lr=1e-3)\n",
    "CRockGAN_images = np.round(gen(fixed_noise).detach().cpu().numpy().reshape(BATCH_SIZE,128,128,128))"
   ]
  },
  {
   "cell_type": "code",
   "execution_count": 11,
   "id": "6d085ec7",
   "metadata": {},
   "outputs": [
    {
     "name": "stderr",
     "output_type": "stream",
     "text": [
      "\u001b[0m\u001b[33m2022-10-02 22:52:04.456 ( 138.785s) [        C5871740]       vtkThreshold.cxx:72    WARN| vtkThreshold::ThresholdByLower was deprecated for VTK 9.1 and will be removed in a future version.\u001b[0m\n",
      "\u001b[0m\u001b[33m2022-10-02 22:52:05.008 ( 139.337s) [        C5871740]       vtkThreshold.cxx:72    WARN| vtkThreshold::ThresholdByLower was deprecated for VTK 9.1 and will be removed in a future version.\u001b[0m\n",
      "\u001b[0m\u001b[33m2022-10-02 22:52:05.546 ( 139.875s) [        C5871740]       vtkThreshold.cxx:72    WARN| vtkThreshold::ThresholdByLower was deprecated for VTK 9.1 and will be removed in a future version.\u001b[0m\n",
      "\u001b[0m\u001b[33m2022-10-02 22:52:06.080 ( 140.410s) [        C5871740]       vtkThreshold.cxx:72    WARN| vtkThreshold::ThresholdByLower was deprecated for VTK 9.1 and will be removed in a future version.\u001b[0m\n",
      "\u001b[0m\u001b[33m2022-10-02 22:52:06.620 ( 140.950s) [        C5871740]       vtkThreshold.cxx:72    WARN| vtkThreshold::ThresholdByLower was deprecated for VTK 9.1 and will be removed in a future version.\u001b[0m\n",
      "\u001b[0m\u001b[33m2022-10-02 22:52:07.159 ( 141.488s) [        C5871740]       vtkThreshold.cxx:72    WARN| vtkThreshold::ThresholdByLower was deprecated for VTK 9.1 and will be removed in a future version.\u001b[0m\n",
      "\u001b[0m\u001b[33m2022-10-02 22:52:07.712 ( 142.042s) [        C5871740]       vtkThreshold.cxx:72    WARN| vtkThreshold::ThresholdByLower was deprecated for VTK 9.1 and will be removed in a future version.\u001b[0m\n",
      "\u001b[0m\u001b[33m2022-10-02 22:52:08.192 ( 142.521s) [        C5871740]       vtkThreshold.cxx:72    WARN| vtkThreshold::ThresholdByLower was deprecated for VTK 9.1 and will be removed in a future version.\u001b[0m\n",
      "\u001b[0m\u001b[33m2022-10-02 22:52:08.685 ( 143.014s) [        C5871740]       vtkThreshold.cxx:72    WARN| vtkThreshold::ThresholdByLower was deprecated for VTK 9.1 and will be removed in a future version.\u001b[0m\n"
     ]
    },
    {
     "data": {
      "application/vnd.jupyter.widget-view+json": {
       "model_id": "44306a05e32f4767898148ecf2c7422d",
       "version_major": 2,
       "version_minor": 0
      },
      "text/plain": [
       "ViewInteractiveWidget(height=1000, layout=Layout(height='auto', width='100%'), width=1000)"
      ]
     },
     "metadata": {},
     "output_type": "display_data"
    }
   ],
   "source": [
    "columns = 3\n",
    "rows = 3\n",
    "t = np.arange(1,rows*columns+1).reshape(rows,columns)\n",
    "p = pv.Plotter(shape=(rows, columns))\n",
    "for i in range(rows):\n",
    "    for j in range(columns):\n",
    "        grid = pv.UniformGrid(dims=(129,129,129))\n",
    "        grid.cell_data[\"values\"] = CRockGAN_images[t[i,j],:,:].flatten() \n",
    "        threshed = grid.threshold(value=0, invert=True)\n",
    "        outline = grid.outline()\n",
    "        p.subplot(i,j)\n",
    "        p.add_mesh(outline, color=\"k\")\n",
    "        p.add_mesh(threshed, color='lightskyblue',interpolate_before_map=True, show_edges=0, smooth_shading=True, metallic=1)\n",
    "        p.add_text('CRockGAN sample: N= {}'.format(t[i,j]), font_size=12, font='times', color='black')\n",
    "#         p.camera_position = [-5, 5, 5]\n",
    "        p.window_size = [1000,1000]\n",
    "        #p.camera.zoom(1.1)\n",
    "# p.save_graphic('../figures/RockGAN_3D_samples.eps',raster=False )\n",
    "# p.save_graphic('../figures/RockGAN_3D_samples.eps')  \n",
    "# p.screenshot('../figures/CRockGAN_3D_samples_structure.png', transparent_background=True)\n",
    "p.show()"
   ]
  },
  {
   "cell_type": "code",
   "execution_count": 12,
   "id": "2a0c0f9e",
   "metadata": {},
   "outputs": [
    {
     "data": {
      "application/vnd.jupyter.widget-view+json": {
       "model_id": "9ee22f43c373472aa3ce65ac785264d6",
       "version_major": 2,
       "version_minor": 0
      },
      "text/plain": [
       "ViewInteractiveWidget(height=1000, layout=Layout(height='auto', width='100%'), width=1000)"
      ]
     },
     "metadata": {},
     "output_type": "display_data"
    }
   ],
   "source": [
    "columns = 3\n",
    "rows = 3\n",
    "t = np.arange(1,rows*columns+1).reshape(rows,columns)\n",
    "p = pv.Plotter(shape=(rows, columns))\n",
    "\n",
    "for i in range(rows):\n",
    "    for j in range(columns):\n",
    "        grid = pv.UniformGrid(dims=(129,129,129))\n",
    "        grid.cell_data[\"values\"] = CRockGAN_images[t[i,j],:,:].flatten() \n",
    "        clipped = grid.clip_box(factor=0.5)\n",
    "        p.subplot(i,j)\n",
    "        p.add_mesh(clipped, cmap='gray', show_scalar_bar=False)\n",
    "        p.add_text('CRockGAN sample: N= {}'.format(t[i,j]), font_size=12, font='times', color='black')\n",
    "#         p.camera_position = [-5, 5, 5]\n",
    "        p.window_size = [1000,1000]\n",
    "        #p.camera.zoom(1.1)\n",
    "# p.save_graphic('../figures/training_samples.eps',raster=False )\n",
    "# p.save_graphic('../figures/training_samples.eps')  \n",
    "# p.screenshot('../figures/CRockGAN_3D_samples_cube.png', transparent_background=True)\n",
    "p.show()"
   ]
  }
 ],
 "metadata": {
  "kernelspec": {
   "display_name": "Python 3 (ipykernel)",
   "language": "python",
   "name": "python3"
  },
  "language_info": {
   "codemirror_mode": {
    "name": "ipython",
    "version": 3
   },
   "file_extension": ".py",
   "mimetype": "text/x-python",
   "name": "python",
   "nbconvert_exporter": "python",
   "pygments_lexer": "ipython3",
   "version": "3.10.6"
  }
 },
 "nbformat": 4,
 "nbformat_minor": 5
}
