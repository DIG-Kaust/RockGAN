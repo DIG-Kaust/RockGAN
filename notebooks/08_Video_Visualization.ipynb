{
 "cells": [
  {
   "cell_type": "markdown",
   "id": "eb2e1d22",
   "metadata": {},
   "source": [
    "# 3D Visualization"
   ]
  },
  {
   "cell_type": "code",
   "execution_count": 1,
   "id": "c0997714",
   "metadata": {},
   "outputs": [],
   "source": [
    "import torch\n",
    "import numpy as np\n",
    "import matplotlib.pyplot as plt\n",
    "import pyvista as pv\n",
    "\n",
    "import torch.optim as optim\n",
    "from rockgan.architecture import *\n",
    "from rockgan.utils import *\n",
    "\n",
    "import tifffile as tiff\n",
    "from skimage import transform\n",
    "from skimage.measure import block_reduce\n",
    "from scipy.spatial.transform import Rotation as R"
   ]
  },
  {
   "cell_type": "code",
   "execution_count": 2,
   "id": "b4890590",
   "metadata": {},
   "outputs": [],
   "source": [
    "os.environ[\"CUDA_DEVICE_ORDER\"] = \"PCI_BUS_ID\"\n",
    "os.environ[\"CUDA_VISIBLE_DEVICES\"] = \"0\"\n",
    "\n",
    "DEVICE = torch.device('cuda')"
   ]
  },
  {
   "cell_type": "markdown",
   "id": "fbe889aa",
   "metadata": {},
   "source": [
    "## Training Data"
   ]
  },
  {
   "cell_type": "code",
   "execution_count": 3,
   "id": "e2dffa93",
   "metadata": {},
   "outputs": [],
   "source": [
    "dataset = tiff.imread('../data/berea.tif')"
   ]
  },
  {
   "cell_type": "code",
   "execution_count": 5,
   "id": "19a7abac",
   "metadata": {},
   "outputs": [
    {
     "name": "stdout",
     "output_type": "stream",
     "text": [
      "(400, 400, 400)\n",
      "(200, 200, 200)\n"
     ]
    }
   ],
   "source": [
    "downsampled = block_reduce(dataset, block_size=(2, 2, 2), func=np.mean)\n",
    "\n",
    "# Verify the shapes\n",
    "print(dataset.shape)       # Prints: (60, 60, 60)\n",
    "print(downsampled.shape) # Prints: (30, 30, 30)"
   ]
  },
  {
   "cell_type": "code",
   "execution_count": 6,
   "id": "579f3961",
   "metadata": {},
   "outputs": [
    {
     "data": {
      "application/vnd.jupyter.widget-view+json": {
       "model_id": "9477c4a4911a4357a78efa6d0bbf27dc",
       "version_major": 2,
       "version_minor": 0
      },
      "text/plain": [
       "ViewInteractiveWidget(height=768, layout=Layout(height='auto', width='100%'), width=1024)"
      ]
     },
     "metadata": {},
     "output_type": "display_data"
    },
    {
     "name": "stderr",
     "output_type": "stream",
     "text": [
      "/home/corralma/miniconda3/envs/rockgan/lib/python3.10/site-packages/pyvista/core/pointset.py:205: PyvistaDeprecationWarning: You did not specify a value for `inplace` and the default value will be changing to `False` in future versions for point-based meshes (e.g., `PolyData`). Please make sure you are not assuming this to be an inplace operation.\n",
      "  warnings.warn(DEFAULT_INPLACE_WARNING, PyvistaDeprecationWarning)\n"
     ]
    }
   ],
   "source": [
    "filename = \"../figures/videos/real_rock_rotating.mp4\"\n",
    "\n",
    "grid = pv.UniformGrid(dims=(201,201,201))\n",
    "grid.cell_data[\"values\"] = downsampled[:200,:200,:200].flatten() \n",
    "mesh = grid.clip_box()\n",
    "\n",
    "plotter = pv.Plotter()\n",
    "# Open a movie file\n",
    "plotter.open_movie(filename)\n",
    "\n",
    "# Add initial mesh\n",
    "plotter.add_mesh(mesh, cmap='gray', show_scalar_bar=False)\n",
    "# Add outline for reference\n",
    "plotter.add_mesh(mesh.outline_corners())\n",
    "\n",
    "plotter.show(auto_close=False)  # only necessary for an off-screen movie\n",
    "\n",
    "# Run through each frame\n",
    "plotter.write_frame()  # write initial data\n",
    "\n",
    "# Get center of the mesh and convert it to numpy array\n",
    "center = np.array(mesh.center)\n",
    "\n",
    "# Rotate mesh on each frame\n",
    "for i in range(360):\n",
    "    # Translate to origin\n",
    "    mesh.translate(-center)\n",
    "\n",
    "    # Rotate and translate back\n",
    "    rot = R.from_euler('z', 1, degrees=True)\n",
    "    mesh.points = rot.apply(mesh.points)\n",
    "\n",
    "    # Translate back to original center\n",
    "    mesh.translate(center)\n",
    "\n",
    "    # plotter.add_text(f\"Iteration: {i}\", name='time-label', viewport=[0.1, 0.1])\n",
    "    plotter.add_text('Field Sample', viewport=[0.1, 0.1])\n",
    "    plotter.write_frame()  # Write this frame\n",
    "\n",
    "# Be sure to close the plotter when finished\n",
    "plotter.close()"
   ]
  },
  {
   "cell_type": "markdown",
   "id": "41c2b052",
   "metadata": {},
   "source": [
    "## RockGAN samples"
   ]
  },
  {
   "cell_type": "code",
   "execution_count": 21,
   "id": "25f9cba1",
   "metadata": {},
   "outputs": [],
   "source": [
    "# Training hyperparameters\n",
    "LEARNING_RATE = 1e-3\n",
    "BATCH_SIZE = 32\n",
    "Z_DIM = 16\n",
    "# fixed noise for display\n",
    "fixed_noise = torch.randn(BATCH_SIZE,1, Z_DIM, Z_DIM, Z_DIM).to(DEVICE)\n",
    "# generator\n",
    "gen = Generator(in_channel=1, out_channel=1).to(DEVICE)\n",
    "# optimizer\n",
    "opt_gen = optim.Adam(gen.parameters(), lr=LEARNING_RATE, betas=(0.0, 0.9))"
   ]
  },
  {
   "cell_type": "code",
   "execution_count": 34,
   "id": "b7b11a3d",
   "metadata": {},
   "outputs": [
    {
     "name": "stdout",
     "output_type": "stream",
     "text": [
      "=> Loading checkpoint\n"
     ]
    }
   ],
   "source": [
    "#Loading generator per epochs\n",
    "load_checkpoint(\"../checkpoints/generator/generator_poro_95_v4.pt\", \\\n",
    "                model=gen, optimizer=opt_gen, lr=1e-3)\n",
    "RockGAN_images = np.round(gen(fixed_noise).detach().cpu().numpy().reshape(BATCH_SIZE,128,128,128))"
   ]
  },
  {
   "cell_type": "code",
   "execution_count": 38,
   "id": "eb7bf360",
   "metadata": {},
   "outputs": [
    {
     "data": {
      "application/vnd.jupyter.widget-view+json": {
       "model_id": "717065e69821492796cef63e538e2f2a",
       "version_major": 2,
       "version_minor": 0
      },
      "text/plain": [
       "ViewInteractiveWidget(height=768, layout=Layout(height='auto', width='100%'), width=1024)"
      ]
     },
     "metadata": {},
     "output_type": "display_data"
    }
   ],
   "source": [
    "filename = \"../figures/videos/generated_rock_1_rotating.mp4\"\n",
    "\n",
    "grid = pv.UniformGrid(dims=(129,129,129))\n",
    "grid.cell_data[\"values\"] = RockGAN_images[10].flatten() \n",
    "mesh = grid.clip_box()\n",
    "\n",
    "plotter = pv.Plotter()\n",
    "# Open a movie file\n",
    "plotter.open_movie(filename)\n",
    "\n",
    "# Add initial mesh\n",
    "plotter.add_mesh(mesh, cmap='gray', show_scalar_bar=False)\n",
    "# Add outline for reference\n",
    "plotter.add_mesh(mesh.outline_corners())\n",
    "\n",
    "plotter.show(auto_close=False)  # only necessary for an off-screen movie\n",
    "\n",
    "# Run through each frame\n",
    "plotter.write_frame()  # write initial data\n",
    "\n",
    "# Get center of the mesh and convert it to numpy array\n",
    "center = np.array(mesh.center)\n",
    "\n",
    "# Rotate mesh on each frame\n",
    "for i in range(360):\n",
    "    # Translate to origin\n",
    "    mesh.translate(-center)\n",
    "\n",
    "    # Rotate and translate back\n",
    "    rot = R.from_euler('z', 1, degrees=True)\n",
    "    mesh.points = rot.apply(mesh.points)\n",
    "\n",
    "    # Translate back to original center\n",
    "    mesh.translate(center)\n",
    "\n",
    "    # plotter.add_text(f\"Iteration: {i}\", name='time-label', viewport=[0.1, 0.1])\n",
    "    plotter.add_text('Generated Sample N=1', viewport=[0.1, 0.1])\n",
    "    plotter.write_frame()  # Write this frame\n",
    "\n",
    "# Be sure to close the plotter when finished\n",
    "plotter.close()"
   ]
  }
 ],
 "metadata": {
  "kernelspec": {
   "display_name": "Python 3 (ipykernel)",
   "language": "python",
   "name": "python3"
  },
  "language_info": {
   "codemirror_mode": {
    "name": "ipython",
    "version": 3
   },
   "file_extension": ".py",
   "mimetype": "text/x-python",
   "name": "python",
   "nbconvert_exporter": "python",
   "pygments_lexer": "ipython3",
   "version": "3.10.6"
  }
 },
 "nbformat": 4,
 "nbformat_minor": 5
}
